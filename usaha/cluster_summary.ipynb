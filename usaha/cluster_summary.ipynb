{
 "cells": [
  {
   "cell_type": "code",
   "execution_count": 1,
   "id": "f23ab9e9",
   "metadata": {},
   "outputs": [],
   "source": [
    "import pandas as pd\n",
    "import numpy as np\n",
    "import matplotlib.pyplot as plt\n",
    "\n",
    "from IPython.display import display, HTML"
   ]
  },
  {
   "cell_type": "code",
   "execution_count": 2,
   "id": "04a64bb6",
   "metadata": {},
   "outputs": [],
   "source": [
    "CLUSTER_DICT = {\n",
    "    'uraian_jenis_perusahaan': 'Uraian Jenis Perusahaan',\n",
    "    'uraian_risiko_proyek' : 'Uraian Risiko Proyek',\n",
    "    'skala_usaha': 'Skala Usaha',\n",
    "    'golongan_kbli': 'Golongan KBLI',\n",
    "}"
   ]
  },
  {
   "cell_type": "raw",
   "id": "e6a14984",
   "metadata": {},
   "source": [
    "CLUSTER_DICT.keys()"
   ]
  },
  {
   "cell_type": "code",
   "execution_count": 3,
   "id": "3fb8873a",
   "metadata": {},
   "outputs": [],
   "source": [
    "index_kecamatan = ['Amurang', 'Amurang Barat', 'Suluun Tareran', 'Tumpaan',\n",
    "       'Amurang Timur', 'Tenga', 'Maesaan', 'Motoling', 'Motoling Timur',\n",
    "       'Tompaso Baru', 'Modoinding', 'Ranoyapo', 'Tareran',\n",
    "       'Motoling Barat', 'Sinonsayang', 'Kumelembuai', 'Tatapaan']"
   ]
  },
  {
   "cell_type": "code",
   "execution_count": 4,
   "id": "15a3d1f9",
   "metadata": {},
   "outputs": [],
   "source": [
    "cluster_summary_df = pd.DataFrame({\n",
    "    'kecamatan': index_kecamatan\n",
    "})\n",
    "\n",
    "cluster_summary_df.set_index('kecamatan', inplace=True)"
   ]
  },
  {
   "cell_type": "code",
   "execution_count": 5,
   "id": "4a227561",
   "metadata": {},
   "outputs": [
    {
     "data": {
      "text/html": [
       "<div>\n",
       "<style scoped>\n",
       "    .dataframe tbody tr th:only-of-type {\n",
       "        vertical-align: middle;\n",
       "    }\n",
       "\n",
       "    .dataframe tbody tr th {\n",
       "        vertical-align: top;\n",
       "    }\n",
       "\n",
       "    .dataframe thead th {\n",
       "        text-align: right;\n",
       "    }\n",
       "</style>\n",
       "<table border=\"1\" class=\"dataframe\">\n",
       "  <thead>\n",
       "    <tr style=\"text-align: right;\">\n",
       "      <th></th>\n",
       "    </tr>\n",
       "    <tr>\n",
       "      <th>kecamatan</th>\n",
       "    </tr>\n",
       "  </thead>\n",
       "  <tbody>\n",
       "    <tr>\n",
       "      <th>Amurang</th>\n",
       "    </tr>\n",
       "    <tr>\n",
       "      <th>Amurang Barat</th>\n",
       "    </tr>\n",
       "    <tr>\n",
       "      <th>Suluun Tareran</th>\n",
       "    </tr>\n",
       "    <tr>\n",
       "      <th>Tumpaan</th>\n",
       "    </tr>\n",
       "    <tr>\n",
       "      <th>Amurang Timur</th>\n",
       "    </tr>\n",
       "    <tr>\n",
       "      <th>Tenga</th>\n",
       "    </tr>\n",
       "    <tr>\n",
       "      <th>Maesaan</th>\n",
       "    </tr>\n",
       "    <tr>\n",
       "      <th>Motoling</th>\n",
       "    </tr>\n",
       "    <tr>\n",
       "      <th>Motoling Timur</th>\n",
       "    </tr>\n",
       "    <tr>\n",
       "      <th>Tompaso Baru</th>\n",
       "    </tr>\n",
       "    <tr>\n",
       "      <th>Modoinding</th>\n",
       "    </tr>\n",
       "    <tr>\n",
       "      <th>Ranoyapo</th>\n",
       "    </tr>\n",
       "    <tr>\n",
       "      <th>Tareran</th>\n",
       "    </tr>\n",
       "    <tr>\n",
       "      <th>Motoling Barat</th>\n",
       "    </tr>\n",
       "    <tr>\n",
       "      <th>Sinonsayang</th>\n",
       "    </tr>\n",
       "    <tr>\n",
       "      <th>Kumelembuai</th>\n",
       "    </tr>\n",
       "    <tr>\n",
       "      <th>Tatapaan</th>\n",
       "    </tr>\n",
       "  </tbody>\n",
       "</table>\n",
       "</div>"
      ],
      "text/plain": [
       "Empty DataFrame\n",
       "Columns: []\n",
       "Index: [Amurang, Amurang Barat, Suluun Tareran, Tumpaan, Amurang Timur, Tenga, Maesaan, Motoling, Motoling Timur, Tompaso Baru, Modoinding, Ranoyapo, Tareran, Motoling Barat, Sinonsayang, Kumelembuai, Tatapaan]"
      ]
     },
     "execution_count": 5,
     "metadata": {},
     "output_type": "execute_result"
    }
   ],
   "source": [
    "cluster_summary_df"
   ]
  },
  {
   "cell_type": "code",
   "execution_count": 6,
   "id": "bf304749",
   "metadata": {},
   "outputs": [],
   "source": [
    "def append_cluster_summary(cluster_name):\n",
    "    df = pd.read_csv('cluster_results/' + cluster_name + '.csv')\n",
    "    df.set_index('kecamatan', inplace=True)\n",
    "    \n",
    "    for kecamatan in index_kecamatan:\n",
    "        cluster_values = df.loc[[kecamatan]].cluster.values[0]\n",
    "        cluster_summary_df.loc[kecamatan, cluster_name] = cluster_values"
   ]
  },
  {
   "cell_type": "code",
   "execution_count": 7,
   "id": "fae8b3e1",
   "metadata": {},
   "outputs": [],
   "source": [
    "for column_key in CLUSTER_DICT.keys():\n",
    "    append_cluster_summary(column_key)"
   ]
  },
  {
   "cell_type": "code",
   "execution_count": 8,
   "id": "e95b80a1",
   "metadata": {},
   "outputs": [
    {
     "data": {
      "text/html": [
       "<div>\n",
       "<style scoped>\n",
       "    .dataframe tbody tr th:only-of-type {\n",
       "        vertical-align: middle;\n",
       "    }\n",
       "\n",
       "    .dataframe tbody tr th {\n",
       "        vertical-align: top;\n",
       "    }\n",
       "\n",
       "    .dataframe thead th {\n",
       "        text-align: right;\n",
       "    }\n",
       "</style>\n",
       "<table border=\"1\" class=\"dataframe\">\n",
       "  <thead>\n",
       "    <tr style=\"text-align: right;\">\n",
       "      <th></th>\n",
       "      <th>uraian_jenis_perusahaan</th>\n",
       "      <th>uraian_risiko_proyek</th>\n",
       "      <th>skala_usaha</th>\n",
       "      <th>golongan_kbli</th>\n",
       "    </tr>\n",
       "    <tr>\n",
       "      <th>kecamatan</th>\n",
       "      <th></th>\n",
       "      <th></th>\n",
       "      <th></th>\n",
       "      <th></th>\n",
       "    </tr>\n",
       "  </thead>\n",
       "  <tbody>\n",
       "    <tr>\n",
       "      <th>Amurang</th>\n",
       "      <td>C1</td>\n",
       "      <td>C2</td>\n",
       "      <td>C0</td>\n",
       "      <td>C3</td>\n",
       "    </tr>\n",
       "    <tr>\n",
       "      <th>Amurang Barat</th>\n",
       "      <td>C3</td>\n",
       "      <td>C0</td>\n",
       "      <td>C1</td>\n",
       "      <td>C1</td>\n",
       "    </tr>\n",
       "    <tr>\n",
       "      <th>Suluun Tareran</th>\n",
       "      <td>C0</td>\n",
       "      <td>C3</td>\n",
       "      <td>C2</td>\n",
       "      <td>C0</td>\n",
       "    </tr>\n",
       "    <tr>\n",
       "      <th>Tumpaan</th>\n",
       "      <td>C3</td>\n",
       "      <td>C0</td>\n",
       "      <td>C1</td>\n",
       "      <td>C1</td>\n",
       "    </tr>\n",
       "    <tr>\n",
       "      <th>Amurang Timur</th>\n",
       "      <td>C3</td>\n",
       "      <td>C0</td>\n",
       "      <td>C3</td>\n",
       "      <td>C1</td>\n",
       "    </tr>\n",
       "    <tr>\n",
       "      <th>Tenga</th>\n",
       "      <td>C2</td>\n",
       "      <td>C3</td>\n",
       "      <td>C2</td>\n",
       "      <td>C2</td>\n",
       "    </tr>\n",
       "    <tr>\n",
       "      <th>Maesaan</th>\n",
       "      <td>C2</td>\n",
       "      <td>C3</td>\n",
       "      <td>C4</td>\n",
       "      <td>C2</td>\n",
       "    </tr>\n",
       "    <tr>\n",
       "      <th>Motoling</th>\n",
       "      <td>C0</td>\n",
       "      <td>C3</td>\n",
       "      <td>C2</td>\n",
       "      <td>C0</td>\n",
       "    </tr>\n",
       "    <tr>\n",
       "      <th>Motoling Timur</th>\n",
       "      <td>C2</td>\n",
       "      <td>C3</td>\n",
       "      <td>C4</td>\n",
       "      <td>C2</td>\n",
       "    </tr>\n",
       "    <tr>\n",
       "      <th>Tompaso Baru</th>\n",
       "      <td>C2</td>\n",
       "      <td>C3</td>\n",
       "      <td>C4</td>\n",
       "      <td>C2</td>\n",
       "    </tr>\n",
       "    <tr>\n",
       "      <th>Modoinding</th>\n",
       "      <td>C0</td>\n",
       "      <td>C1</td>\n",
       "      <td>C2</td>\n",
       "      <td>C4</td>\n",
       "    </tr>\n",
       "    <tr>\n",
       "      <th>Ranoyapo</th>\n",
       "      <td>C0</td>\n",
       "      <td>C3</td>\n",
       "      <td>C4</td>\n",
       "      <td>C0</td>\n",
       "    </tr>\n",
       "    <tr>\n",
       "      <th>Tareran</th>\n",
       "      <td>C2</td>\n",
       "      <td>C3</td>\n",
       "      <td>C2</td>\n",
       "      <td>C2</td>\n",
       "    </tr>\n",
       "    <tr>\n",
       "      <th>Motoling Barat</th>\n",
       "      <td>C0</td>\n",
       "      <td>C3</td>\n",
       "      <td>C4</td>\n",
       "      <td>C0</td>\n",
       "    </tr>\n",
       "    <tr>\n",
       "      <th>Sinonsayang</th>\n",
       "      <td>C2</td>\n",
       "      <td>C3</td>\n",
       "      <td>C2</td>\n",
       "      <td>C2</td>\n",
       "    </tr>\n",
       "    <tr>\n",
       "      <th>Kumelembuai</th>\n",
       "      <td>C2</td>\n",
       "      <td>C3</td>\n",
       "      <td>C4</td>\n",
       "      <td>C2</td>\n",
       "    </tr>\n",
       "    <tr>\n",
       "      <th>Tatapaan</th>\n",
       "      <td>C0</td>\n",
       "      <td>C3</td>\n",
       "      <td>C2</td>\n",
       "      <td>C0</td>\n",
       "    </tr>\n",
       "  </tbody>\n",
       "</table>\n",
       "</div>"
      ],
      "text/plain": [
       "               uraian_jenis_perusahaan uraian_risiko_proyek skala_usaha  \\\n",
       "kecamatan                                                                 \n",
       "Amurang                             C1                   C2          C0   \n",
       "Amurang Barat                       C3                   C0          C1   \n",
       "Suluun Tareran                      C0                   C3          C2   \n",
       "Tumpaan                             C3                   C0          C1   \n",
       "Amurang Timur                       C3                   C0          C3   \n",
       "Tenga                               C2                   C3          C2   \n",
       "Maesaan                             C2                   C3          C4   \n",
       "Motoling                            C0                   C3          C2   \n",
       "Motoling Timur                      C2                   C3          C4   \n",
       "Tompaso Baru                        C2                   C3          C4   \n",
       "Modoinding                          C0                   C1          C2   \n",
       "Ranoyapo                            C0                   C3          C4   \n",
       "Tareran                             C2                   C3          C2   \n",
       "Motoling Barat                      C0                   C3          C4   \n",
       "Sinonsayang                         C2                   C3          C2   \n",
       "Kumelembuai                         C2                   C3          C4   \n",
       "Tatapaan                            C0                   C3          C2   \n",
       "\n",
       "               golongan_kbli  \n",
       "kecamatan                     \n",
       "Amurang                   C3  \n",
       "Amurang Barat             C1  \n",
       "Suluun Tareran            C0  \n",
       "Tumpaan                   C1  \n",
       "Amurang Timur             C1  \n",
       "Tenga                     C2  \n",
       "Maesaan                   C2  \n",
       "Motoling                  C0  \n",
       "Motoling Timur            C2  \n",
       "Tompaso Baru              C2  \n",
       "Modoinding                C4  \n",
       "Ranoyapo                  C0  \n",
       "Tareran                   C2  \n",
       "Motoling Barat            C0  \n",
       "Sinonsayang               C2  \n",
       "Kumelembuai               C2  \n",
       "Tatapaan                  C0  "
      ]
     },
     "execution_count": 8,
     "metadata": {},
     "output_type": "execute_result"
    }
   ],
   "source": [
    "cluster_summary_df"
   ]
  },
  {
   "cell_type": "code",
   "execution_count": null,
   "id": "f4ad40b7",
   "metadata": {},
   "outputs": [],
   "source": []
  },
  {
   "cell_type": "code",
   "execution_count": 9,
   "id": "94278405",
   "metadata": {},
   "outputs": [
    {
     "data": {
      "text/html": [
       "<div>\n",
       "<style scoped>\n",
       "    .dataframe tbody tr th:only-of-type {\n",
       "        vertical-align: middle;\n",
       "    }\n",
       "\n",
       "    .dataframe tbody tr th {\n",
       "        vertical-align: top;\n",
       "    }\n",
       "\n",
       "    .dataframe thead th {\n",
       "        text-align: right;\n",
       "    }\n",
       "</style>\n",
       "<table border=\"1\" class=\"dataframe\">\n",
       "  <thead>\n",
       "    <tr style=\"text-align: right;\">\n",
       "      <th></th>\n",
       "      <th>uraian_jenis_perusahaan</th>\n",
       "      <th>uraian_risiko_proyek</th>\n",
       "      <th>skala_usaha</th>\n",
       "      <th>golongan_kbli</th>\n",
       "    </tr>\n",
       "    <tr>\n",
       "      <th>kecamatan</th>\n",
       "      <th></th>\n",
       "      <th></th>\n",
       "      <th></th>\n",
       "      <th></th>\n",
       "    </tr>\n",
       "  </thead>\n",
       "  <tbody>\n",
       "    <tr>\n",
       "      <th>Amurang Barat</th>\n",
       "      <td>C3</td>\n",
       "      <td>C0</td>\n",
       "      <td>C1</td>\n",
       "      <td>C1</td>\n",
       "    </tr>\n",
       "    <tr>\n",
       "      <th>Tumpaan</th>\n",
       "      <td>C3</td>\n",
       "      <td>C0</td>\n",
       "      <td>C1</td>\n",
       "      <td>C1</td>\n",
       "    </tr>\n",
       "  </tbody>\n",
       "</table>\n",
       "</div>"
      ],
      "text/plain": [
       "              uraian_jenis_perusahaan uraian_risiko_proyek skala_usaha  \\\n",
       "kecamatan                                                                \n",
       "Amurang Barat                      C3                   C0          C1   \n",
       "Tumpaan                            C3                   C0          C1   \n",
       "\n",
       "              golongan_kbli  \n",
       "kecamatan                    \n",
       "Amurang Barat            C1  \n",
       "Tumpaan                  C1  "
      ]
     },
     "execution_count": 9,
     "metadata": {},
     "output_type": "execute_result"
    }
   ],
   "source": [
    "cluster_summary_df.loc[cluster_summary_df['skala_usaha'] == 'C1']"
   ]
  },
  {
   "cell_type": "code",
   "execution_count": 10,
   "id": "738b3fa3",
   "metadata": {},
   "outputs": [],
   "source": [
    "def display_clusters_summary(df, column):\n",
    "    for cluster in df[column].unique():\n",
    "        print('\\n', column, \" \", \"cluster: \", cluster)\n",
    "        display_df = df[[column]].loc[df[column] == cluster]\n",
    "        display(HTML(display_df.to_html()))\n",
    "        print('\\n')"
   ]
  },
  {
   "cell_type": "code",
   "execution_count": 11,
   "id": "0e5b5d9f",
   "metadata": {
    "scrolled": false
   },
   "outputs": [
    {
     "name": "stdout",
     "output_type": "stream",
     "text": [
      "uraian_jenis_perusahaan\n",
      "\n",
      " uraian_jenis_perusahaan   cluster:  C1\n"
     ]
    },
    {
     "data": {
      "text/html": [
       "<table border=\"1\" class=\"dataframe\">\n",
       "  <thead>\n",
       "    <tr style=\"text-align: right;\">\n",
       "      <th></th>\n",
       "      <th>uraian_jenis_perusahaan</th>\n",
       "    </tr>\n",
       "    <tr>\n",
       "      <th>kecamatan</th>\n",
       "      <th></th>\n",
       "    </tr>\n",
       "  </thead>\n",
       "  <tbody>\n",
       "    <tr>\n",
       "      <th>Amurang</th>\n",
       "      <td>C1</td>\n",
       "    </tr>\n",
       "  </tbody>\n",
       "</table>"
      ],
      "text/plain": [
       "<IPython.core.display.HTML object>"
      ]
     },
     "metadata": {},
     "output_type": "display_data"
    },
    {
     "name": "stdout",
     "output_type": "stream",
     "text": [
      "\n",
      "\n",
      "\n",
      " uraian_jenis_perusahaan   cluster:  C3\n"
     ]
    },
    {
     "data": {
      "text/html": [
       "<table border=\"1\" class=\"dataframe\">\n",
       "  <thead>\n",
       "    <tr style=\"text-align: right;\">\n",
       "      <th></th>\n",
       "      <th>uraian_jenis_perusahaan</th>\n",
       "    </tr>\n",
       "    <tr>\n",
       "      <th>kecamatan</th>\n",
       "      <th></th>\n",
       "    </tr>\n",
       "  </thead>\n",
       "  <tbody>\n",
       "    <tr>\n",
       "      <th>Amurang Barat</th>\n",
       "      <td>C3</td>\n",
       "    </tr>\n",
       "    <tr>\n",
       "      <th>Tumpaan</th>\n",
       "      <td>C3</td>\n",
       "    </tr>\n",
       "    <tr>\n",
       "      <th>Amurang Timur</th>\n",
       "      <td>C3</td>\n",
       "    </tr>\n",
       "  </tbody>\n",
       "</table>"
      ],
      "text/plain": [
       "<IPython.core.display.HTML object>"
      ]
     },
     "metadata": {},
     "output_type": "display_data"
    },
    {
     "name": "stdout",
     "output_type": "stream",
     "text": [
      "\n",
      "\n",
      "\n",
      " uraian_jenis_perusahaan   cluster:  C0\n"
     ]
    },
    {
     "data": {
      "text/html": [
       "<table border=\"1\" class=\"dataframe\">\n",
       "  <thead>\n",
       "    <tr style=\"text-align: right;\">\n",
       "      <th></th>\n",
       "      <th>uraian_jenis_perusahaan</th>\n",
       "    </tr>\n",
       "    <tr>\n",
       "      <th>kecamatan</th>\n",
       "      <th></th>\n",
       "    </tr>\n",
       "  </thead>\n",
       "  <tbody>\n",
       "    <tr>\n",
       "      <th>Suluun Tareran</th>\n",
       "      <td>C0</td>\n",
       "    </tr>\n",
       "    <tr>\n",
       "      <th>Motoling</th>\n",
       "      <td>C0</td>\n",
       "    </tr>\n",
       "    <tr>\n",
       "      <th>Modoinding</th>\n",
       "      <td>C0</td>\n",
       "    </tr>\n",
       "    <tr>\n",
       "      <th>Ranoyapo</th>\n",
       "      <td>C0</td>\n",
       "    </tr>\n",
       "    <tr>\n",
       "      <th>Motoling Barat</th>\n",
       "      <td>C0</td>\n",
       "    </tr>\n",
       "    <tr>\n",
       "      <th>Tatapaan</th>\n",
       "      <td>C0</td>\n",
       "    </tr>\n",
       "  </tbody>\n",
       "</table>"
      ],
      "text/plain": [
       "<IPython.core.display.HTML object>"
      ]
     },
     "metadata": {},
     "output_type": "display_data"
    },
    {
     "name": "stdout",
     "output_type": "stream",
     "text": [
      "\n",
      "\n",
      "\n",
      " uraian_jenis_perusahaan   cluster:  C2\n"
     ]
    },
    {
     "data": {
      "text/html": [
       "<table border=\"1\" class=\"dataframe\">\n",
       "  <thead>\n",
       "    <tr style=\"text-align: right;\">\n",
       "      <th></th>\n",
       "      <th>uraian_jenis_perusahaan</th>\n",
       "    </tr>\n",
       "    <tr>\n",
       "      <th>kecamatan</th>\n",
       "      <th></th>\n",
       "    </tr>\n",
       "  </thead>\n",
       "  <tbody>\n",
       "    <tr>\n",
       "      <th>Tenga</th>\n",
       "      <td>C2</td>\n",
       "    </tr>\n",
       "    <tr>\n",
       "      <th>Maesaan</th>\n",
       "      <td>C2</td>\n",
       "    </tr>\n",
       "    <tr>\n",
       "      <th>Motoling Timur</th>\n",
       "      <td>C2</td>\n",
       "    </tr>\n",
       "    <tr>\n",
       "      <th>Tompaso Baru</th>\n",
       "      <td>C2</td>\n",
       "    </tr>\n",
       "    <tr>\n",
       "      <th>Tareran</th>\n",
       "      <td>C2</td>\n",
       "    </tr>\n",
       "    <tr>\n",
       "      <th>Sinonsayang</th>\n",
       "      <td>C2</td>\n",
       "    </tr>\n",
       "    <tr>\n",
       "      <th>Kumelembuai</th>\n",
       "      <td>C2</td>\n",
       "    </tr>\n",
       "  </tbody>\n",
       "</table>"
      ],
      "text/plain": [
       "<IPython.core.display.HTML object>"
      ]
     },
     "metadata": {},
     "output_type": "display_data"
    },
    {
     "name": "stdout",
     "output_type": "stream",
     "text": [
      "\n",
      "\n",
      "----------------------------------------------------------------------\n",
      "\n",
      "\n",
      "uraian_risiko_proyek\n",
      "\n",
      " uraian_risiko_proyek   cluster:  C2\n"
     ]
    },
    {
     "data": {
      "text/html": [
       "<table border=\"1\" class=\"dataframe\">\n",
       "  <thead>\n",
       "    <tr style=\"text-align: right;\">\n",
       "      <th></th>\n",
       "      <th>uraian_risiko_proyek</th>\n",
       "    </tr>\n",
       "    <tr>\n",
       "      <th>kecamatan</th>\n",
       "      <th></th>\n",
       "    </tr>\n",
       "  </thead>\n",
       "  <tbody>\n",
       "    <tr>\n",
       "      <th>Amurang</th>\n",
       "      <td>C2</td>\n",
       "    </tr>\n",
       "  </tbody>\n",
       "</table>"
      ],
      "text/plain": [
       "<IPython.core.display.HTML object>"
      ]
     },
     "metadata": {},
     "output_type": "display_data"
    },
    {
     "name": "stdout",
     "output_type": "stream",
     "text": [
      "\n",
      "\n",
      "\n",
      " uraian_risiko_proyek   cluster:  C0\n"
     ]
    },
    {
     "data": {
      "text/html": [
       "<table border=\"1\" class=\"dataframe\">\n",
       "  <thead>\n",
       "    <tr style=\"text-align: right;\">\n",
       "      <th></th>\n",
       "      <th>uraian_risiko_proyek</th>\n",
       "    </tr>\n",
       "    <tr>\n",
       "      <th>kecamatan</th>\n",
       "      <th></th>\n",
       "    </tr>\n",
       "  </thead>\n",
       "  <tbody>\n",
       "    <tr>\n",
       "      <th>Amurang Barat</th>\n",
       "      <td>C0</td>\n",
       "    </tr>\n",
       "    <tr>\n",
       "      <th>Tumpaan</th>\n",
       "      <td>C0</td>\n",
       "    </tr>\n",
       "    <tr>\n",
       "      <th>Amurang Timur</th>\n",
       "      <td>C0</td>\n",
       "    </tr>\n",
       "  </tbody>\n",
       "</table>"
      ],
      "text/plain": [
       "<IPython.core.display.HTML object>"
      ]
     },
     "metadata": {},
     "output_type": "display_data"
    },
    {
     "name": "stdout",
     "output_type": "stream",
     "text": [
      "\n",
      "\n",
      "\n",
      " uraian_risiko_proyek   cluster:  C3\n"
     ]
    },
    {
     "data": {
      "text/html": [
       "<table border=\"1\" class=\"dataframe\">\n",
       "  <thead>\n",
       "    <tr style=\"text-align: right;\">\n",
       "      <th></th>\n",
       "      <th>uraian_risiko_proyek</th>\n",
       "    </tr>\n",
       "    <tr>\n",
       "      <th>kecamatan</th>\n",
       "      <th></th>\n",
       "    </tr>\n",
       "  </thead>\n",
       "  <tbody>\n",
       "    <tr>\n",
       "      <th>Suluun Tareran</th>\n",
       "      <td>C3</td>\n",
       "    </tr>\n",
       "    <tr>\n",
       "      <th>Tenga</th>\n",
       "      <td>C3</td>\n",
       "    </tr>\n",
       "    <tr>\n",
       "      <th>Maesaan</th>\n",
       "      <td>C3</td>\n",
       "    </tr>\n",
       "    <tr>\n",
       "      <th>Motoling</th>\n",
       "      <td>C3</td>\n",
       "    </tr>\n",
       "    <tr>\n",
       "      <th>Motoling Timur</th>\n",
       "      <td>C3</td>\n",
       "    </tr>\n",
       "    <tr>\n",
       "      <th>Tompaso Baru</th>\n",
       "      <td>C3</td>\n",
       "    </tr>\n",
       "    <tr>\n",
       "      <th>Ranoyapo</th>\n",
       "      <td>C3</td>\n",
       "    </tr>\n",
       "    <tr>\n",
       "      <th>Tareran</th>\n",
       "      <td>C3</td>\n",
       "    </tr>\n",
       "    <tr>\n",
       "      <th>Motoling Barat</th>\n",
       "      <td>C3</td>\n",
       "    </tr>\n",
       "    <tr>\n",
       "      <th>Sinonsayang</th>\n",
       "      <td>C3</td>\n",
       "    </tr>\n",
       "    <tr>\n",
       "      <th>Kumelembuai</th>\n",
       "      <td>C3</td>\n",
       "    </tr>\n",
       "    <tr>\n",
       "      <th>Tatapaan</th>\n",
       "      <td>C3</td>\n",
       "    </tr>\n",
       "  </tbody>\n",
       "</table>"
      ],
      "text/plain": [
       "<IPython.core.display.HTML object>"
      ]
     },
     "metadata": {},
     "output_type": "display_data"
    },
    {
     "name": "stdout",
     "output_type": "stream",
     "text": [
      "\n",
      "\n",
      "\n",
      " uraian_risiko_proyek   cluster:  C1\n"
     ]
    },
    {
     "data": {
      "text/html": [
       "<table border=\"1\" class=\"dataframe\">\n",
       "  <thead>\n",
       "    <tr style=\"text-align: right;\">\n",
       "      <th></th>\n",
       "      <th>uraian_risiko_proyek</th>\n",
       "    </tr>\n",
       "    <tr>\n",
       "      <th>kecamatan</th>\n",
       "      <th></th>\n",
       "    </tr>\n",
       "  </thead>\n",
       "  <tbody>\n",
       "    <tr>\n",
       "      <th>Modoinding</th>\n",
       "      <td>C1</td>\n",
       "    </tr>\n",
       "  </tbody>\n",
       "</table>"
      ],
      "text/plain": [
       "<IPython.core.display.HTML object>"
      ]
     },
     "metadata": {},
     "output_type": "display_data"
    },
    {
     "name": "stdout",
     "output_type": "stream",
     "text": [
      "\n",
      "\n",
      "----------------------------------------------------------------------\n",
      "\n",
      "\n",
      "skala_usaha\n",
      "\n",
      " skala_usaha   cluster:  C0\n"
     ]
    },
    {
     "data": {
      "text/html": [
       "<table border=\"1\" class=\"dataframe\">\n",
       "  <thead>\n",
       "    <tr style=\"text-align: right;\">\n",
       "      <th></th>\n",
       "      <th>skala_usaha</th>\n",
       "    </tr>\n",
       "    <tr>\n",
       "      <th>kecamatan</th>\n",
       "      <th></th>\n",
       "    </tr>\n",
       "  </thead>\n",
       "  <tbody>\n",
       "    <tr>\n",
       "      <th>Amurang</th>\n",
       "      <td>C0</td>\n",
       "    </tr>\n",
       "  </tbody>\n",
       "</table>"
      ],
      "text/plain": [
       "<IPython.core.display.HTML object>"
      ]
     },
     "metadata": {},
     "output_type": "display_data"
    },
    {
     "name": "stdout",
     "output_type": "stream",
     "text": [
      "\n",
      "\n",
      "\n",
      " skala_usaha   cluster:  C1\n"
     ]
    },
    {
     "data": {
      "text/html": [
       "<table border=\"1\" class=\"dataframe\">\n",
       "  <thead>\n",
       "    <tr style=\"text-align: right;\">\n",
       "      <th></th>\n",
       "      <th>skala_usaha</th>\n",
       "    </tr>\n",
       "    <tr>\n",
       "      <th>kecamatan</th>\n",
       "      <th></th>\n",
       "    </tr>\n",
       "  </thead>\n",
       "  <tbody>\n",
       "    <tr>\n",
       "      <th>Amurang Barat</th>\n",
       "      <td>C1</td>\n",
       "    </tr>\n",
       "    <tr>\n",
       "      <th>Tumpaan</th>\n",
       "      <td>C1</td>\n",
       "    </tr>\n",
       "  </tbody>\n",
       "</table>"
      ],
      "text/plain": [
       "<IPython.core.display.HTML object>"
      ]
     },
     "metadata": {},
     "output_type": "display_data"
    },
    {
     "name": "stdout",
     "output_type": "stream",
     "text": [
      "\n",
      "\n",
      "\n",
      " skala_usaha   cluster:  C2\n"
     ]
    },
    {
     "data": {
      "text/html": [
       "<table border=\"1\" class=\"dataframe\">\n",
       "  <thead>\n",
       "    <tr style=\"text-align: right;\">\n",
       "      <th></th>\n",
       "      <th>skala_usaha</th>\n",
       "    </tr>\n",
       "    <tr>\n",
       "      <th>kecamatan</th>\n",
       "      <th></th>\n",
       "    </tr>\n",
       "  </thead>\n",
       "  <tbody>\n",
       "    <tr>\n",
       "      <th>Suluun Tareran</th>\n",
       "      <td>C2</td>\n",
       "    </tr>\n",
       "    <tr>\n",
       "      <th>Tenga</th>\n",
       "      <td>C2</td>\n",
       "    </tr>\n",
       "    <tr>\n",
       "      <th>Motoling</th>\n",
       "      <td>C2</td>\n",
       "    </tr>\n",
       "    <tr>\n",
       "      <th>Modoinding</th>\n",
       "      <td>C2</td>\n",
       "    </tr>\n",
       "    <tr>\n",
       "      <th>Tareran</th>\n",
       "      <td>C2</td>\n",
       "    </tr>\n",
       "    <tr>\n",
       "      <th>Sinonsayang</th>\n",
       "      <td>C2</td>\n",
       "    </tr>\n",
       "    <tr>\n",
       "      <th>Tatapaan</th>\n",
       "      <td>C2</td>\n",
       "    </tr>\n",
       "  </tbody>\n",
       "</table>"
      ],
      "text/plain": [
       "<IPython.core.display.HTML object>"
      ]
     },
     "metadata": {},
     "output_type": "display_data"
    },
    {
     "name": "stdout",
     "output_type": "stream",
     "text": [
      "\n",
      "\n",
      "\n",
      " skala_usaha   cluster:  C3\n"
     ]
    },
    {
     "data": {
      "text/html": [
       "<table border=\"1\" class=\"dataframe\">\n",
       "  <thead>\n",
       "    <tr style=\"text-align: right;\">\n",
       "      <th></th>\n",
       "      <th>skala_usaha</th>\n",
       "    </tr>\n",
       "    <tr>\n",
       "      <th>kecamatan</th>\n",
       "      <th></th>\n",
       "    </tr>\n",
       "  </thead>\n",
       "  <tbody>\n",
       "    <tr>\n",
       "      <th>Amurang Timur</th>\n",
       "      <td>C3</td>\n",
       "    </tr>\n",
       "  </tbody>\n",
       "</table>"
      ],
      "text/plain": [
       "<IPython.core.display.HTML object>"
      ]
     },
     "metadata": {},
     "output_type": "display_data"
    },
    {
     "name": "stdout",
     "output_type": "stream",
     "text": [
      "\n",
      "\n",
      "\n",
      " skala_usaha   cluster:  C4\n"
     ]
    },
    {
     "data": {
      "text/html": [
       "<table border=\"1\" class=\"dataframe\">\n",
       "  <thead>\n",
       "    <tr style=\"text-align: right;\">\n",
       "      <th></th>\n",
       "      <th>skala_usaha</th>\n",
       "    </tr>\n",
       "    <tr>\n",
       "      <th>kecamatan</th>\n",
       "      <th></th>\n",
       "    </tr>\n",
       "  </thead>\n",
       "  <tbody>\n",
       "    <tr>\n",
       "      <th>Maesaan</th>\n",
       "      <td>C4</td>\n",
       "    </tr>\n",
       "    <tr>\n",
       "      <th>Motoling Timur</th>\n",
       "      <td>C4</td>\n",
       "    </tr>\n",
       "    <tr>\n",
       "      <th>Tompaso Baru</th>\n",
       "      <td>C4</td>\n",
       "    </tr>\n",
       "    <tr>\n",
       "      <th>Ranoyapo</th>\n",
       "      <td>C4</td>\n",
       "    </tr>\n",
       "    <tr>\n",
       "      <th>Motoling Barat</th>\n",
       "      <td>C4</td>\n",
       "    </tr>\n",
       "    <tr>\n",
       "      <th>Kumelembuai</th>\n",
       "      <td>C4</td>\n",
       "    </tr>\n",
       "  </tbody>\n",
       "</table>"
      ],
      "text/plain": [
       "<IPython.core.display.HTML object>"
      ]
     },
     "metadata": {},
     "output_type": "display_data"
    },
    {
     "name": "stdout",
     "output_type": "stream",
     "text": [
      "\n",
      "\n",
      "----------------------------------------------------------------------\n",
      "\n",
      "\n",
      "golongan_kbli\n",
      "\n",
      " golongan_kbli   cluster:  C3\n"
     ]
    },
    {
     "data": {
      "text/html": [
       "<table border=\"1\" class=\"dataframe\">\n",
       "  <thead>\n",
       "    <tr style=\"text-align: right;\">\n",
       "      <th></th>\n",
       "      <th>golongan_kbli</th>\n",
       "    </tr>\n",
       "    <tr>\n",
       "      <th>kecamatan</th>\n",
       "      <th></th>\n",
       "    </tr>\n",
       "  </thead>\n",
       "  <tbody>\n",
       "    <tr>\n",
       "      <th>Amurang</th>\n",
       "      <td>C3</td>\n",
       "    </tr>\n",
       "  </tbody>\n",
       "</table>"
      ],
      "text/plain": [
       "<IPython.core.display.HTML object>"
      ]
     },
     "metadata": {},
     "output_type": "display_data"
    },
    {
     "name": "stdout",
     "output_type": "stream",
     "text": [
      "\n",
      "\n",
      "\n",
      " golongan_kbli   cluster:  C1\n"
     ]
    },
    {
     "data": {
      "text/html": [
       "<table border=\"1\" class=\"dataframe\">\n",
       "  <thead>\n",
       "    <tr style=\"text-align: right;\">\n",
       "      <th></th>\n",
       "      <th>golongan_kbli</th>\n",
       "    </tr>\n",
       "    <tr>\n",
       "      <th>kecamatan</th>\n",
       "      <th></th>\n",
       "    </tr>\n",
       "  </thead>\n",
       "  <tbody>\n",
       "    <tr>\n",
       "      <th>Amurang Barat</th>\n",
       "      <td>C1</td>\n",
       "    </tr>\n",
       "    <tr>\n",
       "      <th>Tumpaan</th>\n",
       "      <td>C1</td>\n",
       "    </tr>\n",
       "    <tr>\n",
       "      <th>Amurang Timur</th>\n",
       "      <td>C1</td>\n",
       "    </tr>\n",
       "  </tbody>\n",
       "</table>"
      ],
      "text/plain": [
       "<IPython.core.display.HTML object>"
      ]
     },
     "metadata": {},
     "output_type": "display_data"
    },
    {
     "name": "stdout",
     "output_type": "stream",
     "text": [
      "\n",
      "\n",
      "\n",
      " golongan_kbli   cluster:  C0\n"
     ]
    },
    {
     "data": {
      "text/html": [
       "<table border=\"1\" class=\"dataframe\">\n",
       "  <thead>\n",
       "    <tr style=\"text-align: right;\">\n",
       "      <th></th>\n",
       "      <th>golongan_kbli</th>\n",
       "    </tr>\n",
       "    <tr>\n",
       "      <th>kecamatan</th>\n",
       "      <th></th>\n",
       "    </tr>\n",
       "  </thead>\n",
       "  <tbody>\n",
       "    <tr>\n",
       "      <th>Suluun Tareran</th>\n",
       "      <td>C0</td>\n",
       "    </tr>\n",
       "    <tr>\n",
       "      <th>Motoling</th>\n",
       "      <td>C0</td>\n",
       "    </tr>\n",
       "    <tr>\n",
       "      <th>Ranoyapo</th>\n",
       "      <td>C0</td>\n",
       "    </tr>\n",
       "    <tr>\n",
       "      <th>Motoling Barat</th>\n",
       "      <td>C0</td>\n",
       "    </tr>\n",
       "    <tr>\n",
       "      <th>Tatapaan</th>\n",
       "      <td>C0</td>\n",
       "    </tr>\n",
       "  </tbody>\n",
       "</table>"
      ],
      "text/plain": [
       "<IPython.core.display.HTML object>"
      ]
     },
     "metadata": {},
     "output_type": "display_data"
    },
    {
     "name": "stdout",
     "output_type": "stream",
     "text": [
      "\n",
      "\n",
      "\n",
      " golongan_kbli   cluster:  C2\n"
     ]
    },
    {
     "data": {
      "text/html": [
       "<table border=\"1\" class=\"dataframe\">\n",
       "  <thead>\n",
       "    <tr style=\"text-align: right;\">\n",
       "      <th></th>\n",
       "      <th>golongan_kbli</th>\n",
       "    </tr>\n",
       "    <tr>\n",
       "      <th>kecamatan</th>\n",
       "      <th></th>\n",
       "    </tr>\n",
       "  </thead>\n",
       "  <tbody>\n",
       "    <tr>\n",
       "      <th>Tenga</th>\n",
       "      <td>C2</td>\n",
       "    </tr>\n",
       "    <tr>\n",
       "      <th>Maesaan</th>\n",
       "      <td>C2</td>\n",
       "    </tr>\n",
       "    <tr>\n",
       "      <th>Motoling Timur</th>\n",
       "      <td>C2</td>\n",
       "    </tr>\n",
       "    <tr>\n",
       "      <th>Tompaso Baru</th>\n",
       "      <td>C2</td>\n",
       "    </tr>\n",
       "    <tr>\n",
       "      <th>Tareran</th>\n",
       "      <td>C2</td>\n",
       "    </tr>\n",
       "    <tr>\n",
       "      <th>Sinonsayang</th>\n",
       "      <td>C2</td>\n",
       "    </tr>\n",
       "    <tr>\n",
       "      <th>Kumelembuai</th>\n",
       "      <td>C2</td>\n",
       "    </tr>\n",
       "  </tbody>\n",
       "</table>"
      ],
      "text/plain": [
       "<IPython.core.display.HTML object>"
      ]
     },
     "metadata": {},
     "output_type": "display_data"
    },
    {
     "name": "stdout",
     "output_type": "stream",
     "text": [
      "\n",
      "\n",
      "\n",
      " golongan_kbli   cluster:  C4\n"
     ]
    },
    {
     "data": {
      "text/html": [
       "<table border=\"1\" class=\"dataframe\">\n",
       "  <thead>\n",
       "    <tr style=\"text-align: right;\">\n",
       "      <th></th>\n",
       "      <th>golongan_kbli</th>\n",
       "    </tr>\n",
       "    <tr>\n",
       "      <th>kecamatan</th>\n",
       "      <th></th>\n",
       "    </tr>\n",
       "  </thead>\n",
       "  <tbody>\n",
       "    <tr>\n",
       "      <th>Modoinding</th>\n",
       "      <td>C4</td>\n",
       "    </tr>\n",
       "  </tbody>\n",
       "</table>"
      ],
      "text/plain": [
       "<IPython.core.display.HTML object>"
      ]
     },
     "metadata": {},
     "output_type": "display_data"
    },
    {
     "name": "stdout",
     "output_type": "stream",
     "text": [
      "\n",
      "\n",
      "----------------------------------------------------------------------\n",
      "\n",
      "\n"
     ]
    }
   ],
   "source": [
    "for cluster_key in CLUSTER_DICT.keys():\n",
    "    print(cluster_key)\n",
    "    display_clusters_summary(cluster_summary_df, cluster_key)\n",
    "    print('----------------------------------------------------------------------\\n\\n')"
   ]
  }
 ],
 "metadata": {
  "kernelspec": {
   "display_name": "Python 3.12.3 64-bit",
   "language": "python",
   "name": "python3"
  },
  "language_info": {
   "codemirror_mode": {
    "name": "ipython",
    "version": 3
   },
   "file_extension": ".py",
   "mimetype": "text/x-python",
   "name": "python",
   "nbconvert_exporter": "python",
   "pygments_lexer": "ipython3",
   "version": "3.12.3"
  },
  "vscode": {
   "interpreter": {
    "hash": "981d7c869dd2079483315c95b86c039a0bfcee0010f0840c07f83e4c693b861d"
   }
  }
 },
 "nbformat": 4,
 "nbformat_minor": 5
}
